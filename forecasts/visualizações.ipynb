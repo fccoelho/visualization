{
 "cells": [
  {
   "cell_type": "code",
   "execution_count": 1,
   "id": "0f525775",
   "metadata": {},
   "outputs": [],
   "source": [
    "import json \n",
    "import time\n",
    "import aiohttp\n",
    "import asyncio\n",
    "import requests \n",
    "import pandas as pd \n",
    "import altair as alt "
   ]
  },
  {
   "cell_type": "code",
   "execution_count": 2,
   "id": "c3ef6268",
   "metadata": {},
   "outputs": [],
   "source": [
    "def compose_url(base_url: str, parameters: dict, page: int = 1) -> str:\n",
    "    \"\"\"Helper method to compose the API url with parameters\"\"\"\n",
    "    url = base_url + \"?\" if not base_url.endswith(\"?\") else base_url\n",
    "    params = \"&\".join([f\"{p}={v}\" for p,v in parameters.items()]) + f\"&page={page}\"\n",
    "    return url + params\n"
   ]
  },
  {
   "cell_type": "code",
   "execution_count": 3,
   "id": "c3507f5f",
   "metadata": {},
   "outputs": [],
   "source": [
    "async def fetch_data(session: aiohttp.ClientSession, url: str):\n",
    "    \"\"\"Uses ClientSession to create the async call to the API\"\"\"\n",
    "    async with session.get(url) as response:\n",
    "        return await response.json()\n",
    "\n",
    "async def attempt_delay(session: aiohttp.ClientSession, url: str):\n",
    "    \"\"\"The request may fail. This method adds a delay to the failing requests\"\"\"\n",
    "    try:\n",
    "        return await fetch_data(session, url)\n",
    "    except Exception as e:\n",
    "        await asyncio.sleep(0.2)\n",
    "        return await attempt_delay(session, url)"
   ]
  },
  {
   "cell_type": "code",
   "execution_count": 4,
   "id": "3d8addee",
   "metadata": {},
   "outputs": [],
   "source": [
    "async def get(base_url: str, parameters: dict) -> list:\n",
    "    st = time.time()\n",
    "    result = []\n",
    "    tasks = []\n",
    "    async with aiohttp.ClientSession() as session:\n",
    "        url = compose_url(base_url, parameters)\n",
    "        data = await attempt_delay(session, url)\n",
    "        total_pages = data[\"pagination\"][\"total_pages\"]\n",
    "        result.extend(data[\"items\"])\n",
    "\n",
    "        for page in range(1, total_pages + 1):\n",
    "            url = compose_url(base_url, parameters, page)\n",
    "            tasks.append(attempt_delay(session, url))\n",
    "\n",
    "        responses = await asyncio.gather(*tasks)\n",
    "        for resp in responses:\n",
    "            result.extend(resp[\"items\"])\n",
    "            \n",
    "    et = time.time()\n",
    "    print(f\"Took {et-st:.6f} seconds\")\n",
    "    return result"
   ]
  },
  {
   "cell_type": "markdown",
   "id": "31fa7e93",
   "metadata": {},
   "source": [
    "### Carregando previsões: "
   ]
  },
  {
   "cell_type": "code",
   "execution_count": 5,
   "id": "9f4de6fe",
   "metadata": {},
   "outputs": [],
   "source": [
    "\n",
    "def get_predictions(parameters: dict):\n",
    "    predictions_api = \"https://api.mosqlimate.org/api/registry/predictions/?\"\n",
    "    parameters_url = \"&\".join([f\"{p}={v}\" for p,v in parameters.items()])\n",
    "    return requests.get(predictions_api + parameters_url).json()\n"
   ]
  },
  {
   "cell_type": "code",
   "execution_count": 6,
   "id": "603c4e01",
   "metadata": {},
   "outputs": [],
   "source": [
    "def get_preds(parameters, geocode):\n",
    "    \n",
    "    res = get_predictions(parameters)\n",
    "    \n",
    "    df_in_json_format = res['items'][0]['prediction']\n",
    "    json_struct = json.loads(df_in_json_format)    \n",
    "    df_flat = pd.io.json.json_normalize(json_struct)\n",
    "    df_flat.dates = pd.to_datetime(df_flat.dates)\n",
    "    \n",
    "    df_flat = df_flat.loc[df_flat.adm_2 == geocode]\n",
    "\n",
    "    df_flat.dates = pd.to_datetime(df_flat.dates)\n",
    "    \n",
    "    df_flat['model'] = 'model id - '  + str(parameters['model_id'])\n",
    "    \n",
    "    return df_flat\n",
    "\n",
    "    "
   ]
  },
  {
   "cell_type": "code",
   "execution_count": 7,
   "id": "ac5e523a",
   "metadata": {},
   "outputs": [],
   "source": [
    "geocode = 2304400"
   ]
  },
  {
   "cell_type": "markdown",
   "id": "de234a19",
   "metadata": {},
   "source": [
    "Previsões do modelo 4:"
   ]
  },
  {
   "cell_type": "code",
   "execution_count": 8,
   "id": "710a257c",
   "metadata": {},
   "outputs": [
    {
     "ename": "IndexError",
     "evalue": "list index out of range",
     "output_type": "error",
     "traceback": [
      "\u001b[0;31m---------------------------------------------------------------------------\u001b[0m",
      "\u001b[0;31mIndexError\u001b[0m                                Traceback (most recent call last)",
      "Cell \u001b[0;32mIn [8], line 9\u001b[0m\n\u001b[1;32m      1\u001b[0m parameters \u001b[38;5;241m=\u001b[39m {\n\u001b[1;32m      2\u001b[0m     \u001b[38;5;124m\"\u001b[39m\u001b[38;5;124mpage\u001b[39m\u001b[38;5;124m\"\u001b[39m: \u001b[38;5;241m1\u001b[39m,\n\u001b[1;32m      3\u001b[0m     \u001b[38;5;124m\"\u001b[39m\u001b[38;5;124mper_page\u001b[39m\u001b[38;5;124m\"\u001b[39m: \u001b[38;5;241m50\u001b[39m,\n\u001b[0;32m   (...)\u001b[0m\n\u001b[1;32m      6\u001b[0m     \u001b[38;5;66;03m# Add parameters here\u001b[39;00m\n\u001b[1;32m      7\u001b[0m }\n\u001b[0;32m----> 9\u001b[0m df_pred1 \u001b[38;5;241m=\u001b[39m \u001b[43mget_preds\u001b[49m\u001b[43m(\u001b[49m\u001b[43mparameters\u001b[49m\u001b[43m,\u001b[49m\u001b[43m \u001b[49m\u001b[43mgeocode\u001b[49m\u001b[43m \u001b[49m\u001b[38;5;241;43m=\u001b[39;49m\u001b[43m \u001b[49m\u001b[43mgeocode\u001b[49m\u001b[43m)\u001b[49m\n\u001b[1;32m     11\u001b[0m df_pred1\u001b[38;5;241m.\u001b[39mhead()\n",
      "Cell \u001b[0;32mIn [6], line 5\u001b[0m, in \u001b[0;36mget_preds\u001b[0;34m(parameters, geocode)\u001b[0m\n\u001b[1;32m      1\u001b[0m \u001b[38;5;28;01mdef\u001b[39;00m \u001b[38;5;21mget_preds\u001b[39m(parameters, geocode):\n\u001b[1;32m      3\u001b[0m     res \u001b[38;5;241m=\u001b[39m get_predictions(parameters)\n\u001b[0;32m----> 5\u001b[0m     df_in_json_format \u001b[38;5;241m=\u001b[39m \u001b[43mres\u001b[49m\u001b[43m[\u001b[49m\u001b[38;5;124;43m'\u001b[39;49m\u001b[38;5;124;43mitems\u001b[39;49m\u001b[38;5;124;43m'\u001b[39;49m\u001b[43m]\u001b[49m\u001b[43m[\u001b[49m\u001b[38;5;241;43m0\u001b[39;49m\u001b[43m]\u001b[49m[\u001b[38;5;124m'\u001b[39m\u001b[38;5;124mprediction\u001b[39m\u001b[38;5;124m'\u001b[39m]\n\u001b[1;32m      6\u001b[0m     json_struct \u001b[38;5;241m=\u001b[39m json\u001b[38;5;241m.\u001b[39mloads(df_in_json_format)    \n\u001b[1;32m      7\u001b[0m     df_flat \u001b[38;5;241m=\u001b[39m pd\u001b[38;5;241m.\u001b[39mio\u001b[38;5;241m.\u001b[39mjson\u001b[38;5;241m.\u001b[39mjson_normalize(json_struct)\n",
      "\u001b[0;31mIndexError\u001b[0m: list index out of range"
     ]
    }
   ],
   "source": [
    "parameters = {\n",
    "    \"page\": 1,\n",
    "    \"per_page\": 50,\n",
    "    \"id\": 8, \n",
    "    \"model_id\":4\n",
    "    # Add parameters here\n",
    "}\n",
    "\n",
    "df_pred1 = get_preds(parameters, geocode = geocode)\n",
    "\n",
    "df_pred1.head()"
   ]
  },
  {
   "cell_type": "markdown",
   "id": "e05c4955",
   "metadata": {},
   "source": [
    "Previsão do modelo 3"
   ]
  },
  {
   "cell_type": "code",
   "execution_count": null,
   "id": "9aad32af",
   "metadata": {},
   "outputs": [],
   "source": [
    "parameters = {\n",
    "    \"page\": 1,\n",
    "    \"per_page\": 50,\n",
    "    \"id\": 7, \n",
    "    \"model_id\":3\n",
    "    # Add parameters here\n",
    "}\n",
    "\n",
    "df_pred2 = get_preds(parameters, geocode = geocode)\n",
    "\n",
    "df_pred2.head()"
   ]
  },
  {
   "cell_type": "code",
   "execution_count": null,
   "id": "7a5683af",
   "metadata": {},
   "outputs": [],
   "source": [
    "start = str(min(df_pred1.dates))[:10]\n",
    "end = str(max(df_pred1.dates))[:10]"
   ]
  },
  {
   "cell_type": "code",
   "execution_count": null,
   "id": "3c3b88ef",
   "metadata": {},
   "outputs": [],
   "source": [
    "url = \"https://api.mosqlimate.org/api/datastore/infodengue/?\"\n",
    "\n",
    "parameters = {\n",
    "        \"per_page\": 100,\n",
    "        \"disease\": \"dengue\",\n",
    "        \"start\": start,\n",
    "        \"end\": end, \n",
    "        # Optional parameters are included here\n",
    "        \"geocode\": geocode }\n",
    "    \n",
    "data = await get(url, parameters)\n",
    "    \n",
    "data = pd.DataFrame(data)\n",
    "    \n",
    "data = data[['data_iniSE', 'casos']]\n",
    "    \n",
    "df = data.rename(columns = {'data_iniSE':'dates', 'casos': 'target'})\n",
    "\n",
    "df['legend'] = 'Data'\n",
    "\n",
    "df.dates = pd.to_datetime(df.dates)\n",
    "\n",
    "df = df.sort_values(by = 'dates')\n",
    "df"
   ]
  },
  {
   "cell_type": "markdown",
   "id": "b4e1b766",
   "metadata": {},
   "source": [
    "### Criando o df_for:"
   ]
  },
  {
   "cell_type": "code",
   "execution_count": null,
   "id": "36accff0",
   "metadata": {},
   "outputs": [],
   "source": [
    "df_for = pd.concat([df_pred1, df_pred2], axis = 0)\n",
    "\n",
    "df_for"
   ]
  },
  {
   "cell_type": "code",
   "execution_count": null,
   "id": "b39cb3fd",
   "metadata": {},
   "outputs": [],
   "source": [
    "df_for.loc[df_for.model == 'model id - 4']"
   ]
  },
  {
   "cell_type": "code",
   "execution_count": null,
   "id": "e20c6b69",
   "metadata": {},
   "outputs": [],
   "source": [
    "df_for.dtypes"
   ]
  },
  {
   "cell_type": "code",
   "execution_count": null,
   "id": "fbb33f9e",
   "metadata": {},
   "outputs": [],
   "source": [
    "# here is loaded the element that allows the selection by the mouse\n",
    "highlight = alt.selection_point(on='mouseover', value = df_for.model.values[0], fields=['model'], nearest=True)\n",
    "\n",
    "width = 375 # width of the plots\n",
    "\n",
    "# here is loaded the data points (black)\n",
    "data = alt.Chart(df).mark_circle(size = 60).encode(\n",
    "    x='dates:T',\n",
    "    y='target:Q',\n",
    "    color=alt.value('black'),\n",
    "    opacity=alt.Opacity('legend', legend=alt.Legend(title=None)),\n",
    "\n",
    "    #size = alt.value(3)\n",
    "    tooltip = 'target:Q'\n",
    ").properties(\n",
    "    width=width\n",
    ")\n",
    "\n",
    "\n",
    "# here is created the base element for the time series \n",
    "base = alt.Chart(df_for, title=\"Forecast of dengue new cases\").encode(\n",
    "   x=alt.X('dates:T').title('Dates'),\n",
    "    y=alt.Y('preds:Q').title('New cases'),\n",
    "    color='model:N'\n",
    ").add_params(\n",
    "    highlight\n",
    ").properties(\n",
    "    width=width\n",
    ")\n",
    "\n",
    "points = base.mark_circle().encode(\n",
    "    opacity=alt.value(0)\n",
    ").add_params(\n",
    "    highlight\n",
    ")\n",
    "\n",
    "\n",
    "# here we create the multine plot and use the alt.condition to highlight only one curve\n",
    "lines = base.mark_line().encode(\n",
    "    #size=alt.condition(~highlight, alt.value(1), alt.value(3))\n",
    "    color=alt.condition(highlight, alt.Color('model:N'), alt.value('lightgray')),\n",
    "    tooltip = ['model:N', 'preds']\n",
    "    \n",
    ")\n",
    "\n",
    "# here we define the plot of the right figure\n",
    "timeseries = base.mark_line().encode(\n",
    "    color=alt.Color('model:N')\n",
    ").transform_filter(\n",
    "    highlight # this function transform filter will just filter the element \n",
    "    #in hightlight from the column model N of the df_for (defined in the base element)\n",
    ")\n",
    "\n",
    "# here we create the area that represent the confidence interval of the predicitions\n",
    "timeseries_conf = base.mark_area(\n",
    "    opacity=0.5\n",
    ").encode(\n",
    "    x='dates:T',\n",
    "    y='lower:Q',\n",
    "    y2='upper:Q'\n",
    ").transform_filter(\n",
    "    highlight\n",
    ")\n",
    "\n",
    "# here we concatenate the layers, the + put one layer above the other\n",
    "# the | put them syde by syde (as columns), and & put them side by side as lines\n",
    "final = points + lines + data | timeseries + timeseries_conf + data\n",
    "\n",
    "final"
   ]
  },
  {
   "cell_type": "markdown",
   "id": "9fe0a168",
   "metadata": {},
   "source": [
    "### Usando o plotly: "
   ]
  },
  {
   "cell_type": "code",
   "execution_count": null,
   "id": "c3e5bafc",
   "metadata": {},
   "outputs": [],
   "source": [
    "import plotly.graph_objects as go"
   ]
  },
  {
   "cell_type": "code",
   "execution_count": null,
   "id": "b3310b45",
   "metadata": {},
   "outputs": [],
   "source": [
    "fig = go.Figure()\n",
    "\n",
    "\n",
    "title = f\"Forecasts at {geocode}\"\n",
    "\n",
    "fig.update_layout(width=900, height=500, title={\n",
    "        'text': title,\n",
    "        'y': 0.87,\n",
    "        'x': 0.42,\n",
    "        'xanchor': 'center',\n",
    "        'yanchor': 'top'},\n",
    "        xaxis_title='Date',\n",
    "        yaxis_title=f'New cases',\n",
    "        template='plotly_white')\n",
    "\n",
    "# plot os dados\n",
    "fig.add_trace(go.Scatter(x=df.dates, y=df.target,\n",
    "                  name='Data', line=dict(color='black')))\n",
    "\n",
    "\n",
    "# plot as previsões\n",
    "fig.add_trace(go.Scatter(x=df_pred1.dates, y=df_pred1.preds, name='model id - 3',\n",
    "                  line=dict(color='#FF7F0E')))\n",
    "\n",
    "# plota os mínimos e máximos \n",
    "fig.add_trace(go.Scatter(x=df_pred1.dates, y=df_pred1.lower, line=dict(\n",
    "        color='#FF7F0E', width=0), showlegend=False))\n",
    "\n",
    "fig.add_trace(go.Scatter(x=df_pred1.dates, y=df_pred1.upper, line=dict(color='#FF7F0E', width=0),\n",
    "                             mode='lines',\n",
    "                             fillcolor='rgba(255, 127, 14, 0.3)', fill='tonexty', showlegend=False))\n",
    "\n",
    "\n",
    "\n",
    "# plot as previsões\n",
    "fig.add_trace(go.Scatter(x=df_pred2.dates, y=df_pred2.preds, name='model id - 4',\n",
    "                  line=dict(color='#2CA02C')))\n",
    "\n",
    "# plota os mínimos e máximos\n",
    "fig.add_trace(go.Scatter(x=df_pred2.dates, y=df_pred2.lower, line=dict(\n",
    "        color='#2CA02C', width=0), showlegend=False))\n",
    "\n",
    "fig.add_trace(go.Scatter(x=df_pred1.dates, y=df_pred2.upper, line=dict(color='#2CA02C', width=0),\n",
    "                             mode='lines',\n",
    "                             fillcolor='rgba(44, 160, 44, 0.3)', fill='tonexty', showlegend=False))\n",
    "\n",
    "    \n",
    "fig.update_xaxes(showgrid=True, gridwidth=1, gridcolor='lightgray', zeroline=False,\n",
    "                     showline=True, linewidth=1, linecolor='black', mirror=True)\n",
    "\n",
    "fig.update_yaxes(showgrid=True, gridwidth=1, gridcolor='lightgray', zeroline=False,\n",
    "                     showline=True, linewidth=1, linecolor='black', mirror=True)\n",
    "\n",
    "\n"
   ]
  },
  {
   "cell_type": "code",
   "execution_count": null,
   "id": "17705eff",
   "metadata": {},
   "outputs": [],
   "source": []
  }
 ],
 "metadata": {
  "kernelspec": {
   "display_name": "Python 3 (ipykernel)",
   "language": "python",
   "name": "python3"
  },
  "language_info": {
   "codemirror_mode": {
    "name": "ipython",
    "version": 3
   },
   "file_extension": ".py",
   "mimetype": "text/x-python",
   "name": "python",
   "nbconvert_exporter": "python",
   "pygments_lexer": "ipython3",
   "version": "3.9.16"
  }
 },
 "nbformat": 4,
 "nbformat_minor": 5
}
